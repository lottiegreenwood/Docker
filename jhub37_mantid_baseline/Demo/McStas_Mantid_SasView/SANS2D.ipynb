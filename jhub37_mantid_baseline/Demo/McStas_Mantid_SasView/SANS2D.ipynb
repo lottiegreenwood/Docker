{
 "cells": [
  {
   "cell_type": "markdown",
   "metadata": {},
   "source": [
    "# McStas  "
   ]
  },
  {
   "cell_type": "markdown",
   "metadata": {},
   "source": [
    "## First time setup McStas Script"
   ]
  },
  {
   "cell_type": "code",
   "execution_count": null,
   "metadata": {
    "ExecuteTime": {
     "end_time": "2020-08-27T19:51:36.848999Z",
     "start_time": "2020-08-27T19:51:36.757100Z"
    }
   },
   "outputs": [],
   "source": [
    "from mcstasscript.interface import functions"
   ]
  },
  {
   "cell_type": "code",
   "execution_count": null,
   "metadata": {
    "ExecuteTime": {
     "end_time": "2020-08-27T19:51:37.694047Z",
     "start_time": "2020-08-27T19:51:37.690596Z"
    }
   },
   "outputs": [],
   "source": [
    "# Only for laptop/workstation use"
   ]
  },
  {
   "cell_type": "code",
   "execution_count": null,
   "metadata": {
    "ExecuteTime": {
     "end_time": "2020-08-27T19:51:38.248498Z",
     "start_time": "2020-08-27T19:51:38.245069Z"
    }
   },
   "outputs": [],
   "source": [
    "# Each time a new conda env is created and used McStas must be configured \n",
    "# Ubuntu\n",
    "\n",
    "#my_configurator = functions.Configurator()\n",
    "#my_configurator.set_mcrun_path(\"/usr/share/mcstas/2.6.1/bin/\")\n",
    "#my_configurator.set_mcstas_path(\"/usr/share/mcstas/2.6.1\")"
   ]
  },
  {
   "cell_type": "code",
   "execution_count": null,
   "metadata": {
    "ExecuteTime": {
     "end_time": "2020-08-27T19:51:38.952613Z",
     "start_time": "2020-08-27T19:51:38.948882Z"
    }
   },
   "outputs": [],
   "source": [
    "# Each time a new conda env is created and used McStas must be configured \n",
    "# Centos\n",
    "\n",
    "#my_configurator = functions.Configurator()\n",
    "#my_configurator.set_mcrun_path(\"/usr/local/bin/\")\n",
    "#my_configurator.set_mcstas_path(\"/usr/local/mcstas/2.5/\")"
   ]
  },
  {
   "cell_type": "markdown",
   "metadata": {},
   "source": [
    "## McStas instr file"
   ]
  },
  {
   "cell_type": "code",
   "execution_count": null,
   "metadata": {
    "ExecuteTime": {
     "end_time": "2020-08-27T19:51:41.051773Z",
     "start_time": "2020-08-27T19:51:39.973412Z"
    }
   },
   "outputs": [],
   "source": [
    "from mcstasscript.interface import instr, plotter, functions"
   ]
  },
  {
   "cell_type": "code",
   "execution_count": null,
   "metadata": {
    "ExecuteTime": {
     "end_time": "2020-08-27T19:51:41.067640Z",
     "start_time": "2020-08-27T19:51:41.053545Z"
    }
   },
   "outputs": [],
   "source": [
    "ISIS_SANS2d_Mantid = instr.McStas_instr(\"ISIS_SANS2d_Mantid_generated\")\n",
    "ISIS_SANS2d_Mantid.add_parameter(\"double\", \"L1\", value=3.926)\n",
    "ISIS_SANS2d_Mantid.add_parameter(\"double\", \"A1w\", value=0.03)\n",
    "ISIS_SANS2d_Mantid.add_parameter(\"double\", \"A1h\", value=0.02)\n",
    "ISIS_SANS2d_Mantid.add_parameter(\"double\", \"S6\", value=0.006)\n",
    "ISIS_SANS2d_Mantid.add_parameter(\"double\", \"A2\", value=0.006)\n",
    "ISIS_SANS2d_Mantid.add_parameter(\"double\", \"Lmin\", value=1.0)\n",
    "ISIS_SANS2d_Mantid.add_parameter(\"double\", \"Lmax\", value=14.0)\n",
    "ISIS_SANS2d_Mantid.add_parameter(\"double\", \"model_nr\", value=5.0)"
   ]
  },
  {
   "cell_type": "code",
   "execution_count": null,
   "metadata": {
    "ExecuteTime": {
     "end_time": "2020-08-27T19:51:41.086156Z",
     "start_time": "2020-08-27T19:51:41.082723Z"
    }
   },
   "outputs": [],
   "source": [
    "a1 = ISIS_SANS2d_Mantid.add_component(\"a1\", \"Progress_bar\")\n",
    "a1.set_AT(['0', '0', '0'], RELATIVE=\"ABSOLUTE\")"
   ]
  },
  {
   "cell_type": "code",
   "execution_count": null,
   "metadata": {
    "ExecuteTime": {
     "end_time": "2020-08-27T19:51:41.367760Z",
     "start_time": "2020-08-27T19:51:41.363876Z"
    }
   },
   "outputs": [],
   "source": [
    "Origin = ISIS_SANS2d_Mantid.add_component(\"Origin\", \"Arm\")\n",
    "Origin.set_AT(['0', '0', '0'], RELATIVE=\"ABSOLUTE\")"
   ]
  },
  {
   "cell_type": "code",
   "execution_count": null,
   "metadata": {
    "ExecuteTime": {
     "end_time": "2020-08-27T19:51:41.610784Z",
     "start_time": "2020-08-27T19:51:41.603444Z"
    }
   },
   "outputs": [],
   "source": [
    "isis_source = ISIS_SANS2d_Mantid.add_component(\"isis_source\", \"ISIS_moderator\")\n",
    "isis_source.Face = \"\\\"E2\\\"\"\n",
    "isis_source.Emin = \"-Lmax\"\n",
    "isis_source.Emax = \"-Lmin\"\n",
    "isis_source.dist = 3.68\n",
    "isis_source.focus_xw = 0.0365\n",
    "isis_source.focus_yh = 0.021\n",
    "isis_source.xwidth = -1\n",
    "isis_source.yheight = -1\n",
    "isis_source.CAngle = 0.0\n",
    "isis_source.SAC = 1\n",
    "isis_source.set_AT(['0.0', ' 0.0', ' 0.00001'], RELATIVE=\"Origin\")\n",
    "isis_source.set_ROTATED(['0.0', ' 0.0', ' 0.0'], RELATIVE=\"Origin\")"
   ]
  },
  {
   "cell_type": "code",
   "execution_count": null,
   "metadata": {
    "ExecuteTime": {
     "end_time": "2020-08-27T19:51:41.818900Z",
     "start_time": "2020-08-27T19:51:41.813023Z"
    }
   },
   "outputs": [],
   "source": [
    "lmon1 = ISIS_SANS2d_Mantid.add_component(\"lmon1\", \"L_monitor\")\n",
    "lmon1.nL = 140\n",
    "lmon1.filename = \"\\\"lmon1.dat\\\"\"\n",
    "lmon1.xmin = -0.04\n",
    "lmon1.xmax = 0.04\n",
    "lmon1.ymin = -0.03\n",
    "lmon1.ymax = 0.03\n",
    "lmon1.Lmin = 0.0\n",
    "lmon1.Lmax = 17.0\n",
    "lmon1.set_AT(['0.0', ' 0.0', ' 3.698'], RELATIVE=\"isis_source\")"
   ]
  },
  {
   "cell_type": "code",
   "execution_count": null,
   "metadata": {
    "ExecuteTime": {
     "end_time": "2020-08-27T19:51:42.034344Z",
     "start_time": "2020-08-27T19:51:42.029306Z"
    }
   },
   "outputs": [],
   "source": [
    "psd1 = ISIS_SANS2d_Mantid.add_component(\"psd1\", \"PSD_monitor\")\n",
    "psd1.nx = 100\n",
    "psd1.ny = 100\n",
    "psd1.filename = \"\\\"psd1.dat\\\"\"\n",
    "psd1.xmin = -0.05\n",
    "psd1.xmax = 0.05\n",
    "psd1.ymin = -0.05\n",
    "psd1.ymax = 0.05\n",
    "psd1.set_AT(['0.0', ' 0.0', ' 3.699'], RELATIVE=\"isis_source\")"
   ]
  },
  {
   "cell_type": "code",
   "execution_count": null,
   "metadata": {
    "ExecuteTime": {
     "end_time": "2020-08-27T19:51:42.292074Z",
     "start_time": "2020-08-27T19:51:42.267909Z"
    }
   },
   "outputs": [],
   "source": [
    "bender1 = ISIS_SANS2d_Mantid.add_component(\"bender1\", \"Guide_gravity\")\n",
    "bender1.w1 = .0355\n",
    "bender1.h1 = .020\n",
    "bender1.w2 = .0355\n",
    "bender1.h2 = .020\n",
    "bender1.l = 0.3245\n",
    "bender1.nslit = 9\n",
    "bender1.d = .0005\n",
    "bender1.mleft = 1\n",
    "bender1.mright = 3\n",
    "bender1.mtop = 1\n",
    "bender1.mbottom = 1\n",
    "bender1.wavy = 0\n",
    "bender1.set_AT(['0', ' 0', ' 3.7'], RELATIVE=\"isis_source\")\n",
    "bender1.set_ROTATED(['0.0', ' 0.137099', ' 0.0'], RELATIVE=\"isis_source\")\n",
    "\n",
    "bender2 = ISIS_SANS2d_Mantid.add_component(\"bender2\", \"Guide_gravity\")\n",
    "bender2.w1 = .0355\n",
    "bender2.h1 = .020\n",
    "bender2.w2 = .0355\n",
    "bender2.h2 = .020\n",
    "bender2.l = 0.3245\n",
    "bender2.nslit = 9\n",
    "bender2.d = .0005\n",
    "bender2.mleft = 1\n",
    "bender2.mright = 3\n",
    "bender2.mtop = 1\n",
    "bender2.mbottom = 1\n",
    "bender2.wavy = 0\n",
    "bender2.set_AT(['0', ' 0', ' 0.325'], RELATIVE=\"bender1\")\n",
    "bender2.set_ROTATED(['0.0', ' 0.1375099', ' 0.0'], RELATIVE=\"bender1\")\n",
    "\n",
    "bender3 = ISIS_SANS2d_Mantid.add_component(\"bender3\", \"Guide_gravity\")\n",
    "bender3.w1 = .0355\n",
    "bender3.h1 = .020\n",
    "bender3.w2 = .0355\n",
    "bender3.h2 = .020\n",
    "bender3.l = 0.3245\n",
    "bender3.nslit = 9\n",
    "bender3.d = .0005\n",
    "bender3.mleft = 1\n",
    "bender3.mright = 3\n",
    "bender3.mtop = 1\n",
    "bender3.mbottom = 1\n",
    "bender3.wavy = 0\n",
    "bender3.set_AT(['0', ' 0', ' 0.325'], RELATIVE=\"bender2\")\n",
    "bender3.set_ROTATED(['0.0', ' 0.1375099', ' 0.0'], RELATIVE=\"bender2\")\n",
    "\n",
    "bender4 = ISIS_SANS2d_Mantid.add_component(\"bender4\", \"Guide_gravity\")\n",
    "bender4.w1 = .0355\n",
    "bender4.h1 = .020\n",
    "bender4.w2 = .0355\n",
    "bender4.h2 = .020\n",
    "bender4.l = 0.3245\n",
    "bender4.nslit = 9\n",
    "bender4.d = .0005\n",
    "bender4.mleft = 1\n",
    "bender4.mright = 3\n",
    "bender4.mtop = 1\n",
    "bender4.mbottom = 1\n",
    "bender4.wavy = 0\n",
    "bender4.set_AT(['0', ' 0', ' 0.325'], RELATIVE=\"bender3\")\n",
    "bender4.set_ROTATED(['0.0', ' 0.1375099', ' 0.0'], RELATIVE=\"bender3\")\n",
    "\n",
    "bender5 = ISIS_SANS2d_Mantid.add_component(\"bender5\", \"Guide_gravity\")\n",
    "bender5.w1 = .0355\n",
    "bender5.h1 = .020\n",
    "bender5.w2 = .0355\n",
    "bender5.h2 = .020\n",
    "bender5.l = 0.3245\n",
    "bender5.nslit = 9\n",
    "bender5.d = .0005\n",
    "bender5.mleft = 1\n",
    "bender5.mright = 3\n",
    "bender5.mtop = 1\n",
    "bender5.mbottom = 1\n",
    "bender5.wavy = 0\n",
    "bender5.set_AT(['0', ' 0', ' 0.325'], RELATIVE=\"bender4\")\n",
    "bender5.set_ROTATED(['0.0', ' 0.1375099', ' 0.0'], RELATIVE=\"bender4\")\n",
    "\n",
    "bender6 = ISIS_SANS2d_Mantid.add_component(\"bender6\", \"Guide_gravity\")\n",
    "bender6.w1 = .0355\n",
    "bender6.h1 = .020\n",
    "bender6.w2 = .0355\n",
    "bender6.h2 = .020\n",
    "bender6.l = 0.3245\n",
    "bender6.nslit = 9\n",
    "bender6.d = .0005\n",
    "bender6.mleft = 1\n",
    "bender6.mright = 3\n",
    "bender6.mtop = 1\n",
    "bender6.mbottom = 1\n",
    "bender6.wavy = 0\n",
    "bender6.set_AT(['0', ' 0', ' 0.325'], RELATIVE=\"bender5\")\n",
    "bender6.set_ROTATED(['0.0', ' 0.1375099', ' 0.0'], RELATIVE=\"bender5\")\n",
    "\n",
    "bender7 = ISIS_SANS2d_Mantid.add_component(\"bender7\", \"Guide_gravity\")\n",
    "bender7.w1 = .0355\n",
    "bender7.h1 = .020\n",
    "bender7.w2 = .0355\n",
    "bender7.h2 = .020\n",
    "bender7.l = 0.3245\n",
    "bender7.nslit = 9\n",
    "bender7.d = .0005\n",
    "bender7.mleft = 1\n",
    "bender7.mright = 3\n",
    "bender7.mtop = 1\n",
    "bender7.mbottom = 1\n",
    "bender7.wavy = 0\n",
    "bender7.set_AT(['0', ' 0', ' 0.325'], RELATIVE=\"bender6\")\n",
    "bender7.set_ROTATED(['0.0', ' 0.1375099', ' 0.0'], RELATIVE=\"bender6\")\n",
    "\n",
    "bender8 = ISIS_SANS2d_Mantid.add_component(\"bender8\", \"Guide_gravity\")\n",
    "bender8.w1 = .0355\n",
    "bender8.h1 = .020\n",
    "bender8.w2 = .0355\n",
    "bender8.h2 = .020\n",
    "bender8.l = 0.3245\n",
    "bender8.nslit = 9\n",
    "bender8.d = .0005\n",
    "bender8.mleft = 1\n",
    "bender8.mright = 3\n",
    "bender8.mtop = 1\n",
    "bender8.mbottom = 1\n",
    "bender8.wavy = 0\n",
    "bender8.set_AT(['0', ' 0', ' 0.325'], RELATIVE=\"bender7\")\n",
    "bender8.set_ROTATED(['0.0', ' 0.1375099', ' 0.0'], RELATIVE=\"bender7\")\n",
    "\n",
    "bender9 = ISIS_SANS2d_Mantid.add_component(\"bender9\", \"Guide_gravity\")\n",
    "bender9.w1 = .0355\n",
    "bender9.h1 = .020\n",
    "bender9.w2 = .0355\n",
    "bender9.h2 = .020\n",
    "bender9.l = 0.3245\n",
    "bender9.nslit = 9\n",
    "bender9.d = .0005\n",
    "bender9.mleft = 1\n",
    "bender9.mright = 3\n",
    "bender9.mtop = 1\n",
    "bender9.mbottom = 1\n",
    "bender9.wavy = 0\n",
    "bender9.set_AT(['0', ' 0', ' 0.325'], RELATIVE=\"bender8\")\n",
    "bender9.set_ROTATED(['0.0', ' 0.1375099', ' 0.0'], RELATIVE=\"bender8\")\n",
    "\n",
    "bender10 = ISIS_SANS2d_Mantid.add_component(\"bender10\", \"Guide_gravity\")\n",
    "bender10.w1 = .0355\n",
    "bender10.h1 = .020\n",
    "bender10.w2 = .0355\n",
    "bender10.h2 = .020\n",
    "bender10.l = 0.3245\n",
    "bender10.nslit = 9\n",
    "bender10.d = .0005\n",
    "bender10.mleft = 1\n",
    "bender10.mright = 3\n",
    "bender10.mtop = 1\n",
    "bender10.mbottom = 1\n",
    "bender10.wavy = 0\n",
    "bender10.set_AT(['0', ' 0', ' 0.325'], RELATIVE=\"bender9\")\n",
    "bender10.set_ROTATED(['0.0', ' 0.1375099', ' 0.0'], RELATIVE=\"bender9\")"
   ]
  },
  {
   "cell_type": "code",
   "execution_count": null,
   "metadata": {
    "ExecuteTime": {
     "end_time": "2020-08-27T19:51:42.534946Z",
     "start_time": "2020-08-27T19:51:42.530118Z"
    }
   },
   "outputs": [],
   "source": [
    "lmonb = ISIS_SANS2d_Mantid.add_component(\"lmonb\", \"L_monitor\")\n",
    "lmonb.nL = 140\n",
    "lmonb.filename = \"\\\"lmonB.dat\\\"\"\n",
    "lmonb.xmin = -0.018\n",
    "lmonb.xmax = 0.018\n",
    "lmonb.ymin = -0.018\n",
    "lmonb.ymax = 0.018\n",
    "lmonb.Lmin = 0.0\n",
    "lmonb.Lmax = 17.0\n",
    "lmonb.set_AT(['0.0', ' 0.0', ' 0.326'], RELATIVE=\"bender10\")"
   ]
  },
  {
   "cell_type": "code",
   "execution_count": null,
   "metadata": {
    "ExecuteTime": {
     "end_time": "2020-08-27T19:51:42.783206Z",
     "start_time": "2020-08-27T19:51:42.778575Z"
    }
   },
   "outputs": [],
   "source": [
    "psd2 = ISIS_SANS2d_Mantid.add_component(\"psd2\", \"PSD_monitor\")\n",
    "psd2.nx = 100\n",
    "psd2.ny = 100\n",
    "psd2.filename = \"\\\"psd2.dat\\\"\"\n",
    "psd2.xmin = -0.025\n",
    "psd2.xmax = 0.025\n",
    "psd2.ymin = -0.025\n",
    "psd2.ymax = 0.025\n",
    "psd2.set_AT(['0.0', ' 0.0', ' 0.001'], RELATIVE=\"lmonb\")"
   ]
  },
  {
   "cell_type": "code",
   "execution_count": null,
   "metadata": {
    "ExecuteTime": {
     "end_time": "2020-08-27T19:51:43.061033Z",
     "start_time": "2020-08-27T19:51:43.056530Z"
    }
   },
   "outputs": [],
   "source": [
    "guide_in = ISIS_SANS2d_Mantid.add_component(\"guide_in\", \"Slit\")\n",
    "guide_in.xmin = -0.015\n",
    "guide_in.xmax = 0.015\n",
    "guide_in.ymin = -.01\n",
    "guide_in.ymax = +.01\n",
    "guide_in.set_AT(['0', ' 0', ' 0.2845'], RELATIVE=\"psd2\")"
   ]
  },
  {
   "cell_type": "code",
   "execution_count": null,
   "metadata": {
    "ExecuteTime": {
     "end_time": "2020-08-27T19:51:43.350796Z",
     "start_time": "2020-08-27T19:51:43.341373Z"
    }
   },
   "outputs": [],
   "source": [
    "guide_straight1 = ISIS_SANS2d_Mantid.add_component(\"guide_straight1\", \"Guide_gravity\")\n",
    "guide_straight1.w1 = .030\n",
    "guide_straight1.h1 = .020\n",
    "guide_straight1.w2 = .030\n",
    "guide_straight1.h2 = .020\n",
    "guide_straight1.l = 1.985\n",
    "guide_straight1.mleft = 1\n",
    "guide_straight1.mright = 1\n",
    "guide_straight1.mtop = 1\n",
    "guide_straight1.mbottom = 1\n",
    "guide_straight1.wavy = 0\n",
    "guide_straight1.set_AT(['0', ' 0', ' 0.0075'], RELATIVE=\"guide_in\")\n",
    "\n",
    "guide_straight2 = ISIS_SANS2d_Mantid.add_component(\"guide_straight2\", \"Guide_gravity\")\n",
    "guide_straight2.w1 = .030\n",
    "guide_straight2.h1 = .020\n",
    "guide_straight2.w2 = .030\n",
    "guide_straight2.h2 = .020\n",
    "guide_straight2.l = 1.985\n",
    "guide_straight2.mleft = 1\n",
    "guide_straight2.mright = 1\n",
    "guide_straight2.mtop = 1\n",
    "guide_straight2.mbottom = 1\n",
    "guide_straight2.wavy = 0\n",
    "guide_straight2.set_AT(['0', ' 0', ' 2.000'], RELATIVE=\"guide_straight1\")\n",
    "\n",
    "guide_straight3 = ISIS_SANS2d_Mantid.add_component(\"guide_straight3\", \"Guide_gravity\")\n",
    "guide_straight3.w1 = .030\n",
    "guide_straight3.h1 = .020\n",
    "guide_straight3.w2 = .030\n",
    "guide_straight3.h2 = .020\n",
    "guide_straight3.l = 1.985\n",
    "guide_straight3.mleft = 1\n",
    "guide_straight3.mright = 1\n",
    "guide_straight3.mtop = 1\n",
    "guide_straight3.mbottom = 1\n",
    "guide_straight3.wavy = 0\n",
    "guide_straight3.set_AT(['0', ' 0', ' 2.000'], RELATIVE=\"guide_straight2\")\n",
    "\n",
    "guide_straight4 = ISIS_SANS2d_Mantid.add_component(\"guide_straight4\", \"Guide_gravity\")\n",
    "guide_straight4.w1 = .030\n",
    "guide_straight4.h1 = .020\n",
    "guide_straight4.w2 = .030\n",
    "guide_straight4.h2 = .020\n",
    "guide_straight4.l = 1.985\n",
    "guide_straight4.mleft = 1\n",
    "guide_straight4.mright = 1\n",
    "guide_straight4.mtop = 1\n",
    "guide_straight4.mbottom = 1\n",
    "guide_straight4.wavy = 0\n",
    "guide_straight4.set_AT(['0', ' 0', ' 2.000'], RELATIVE=\"guide_straight3\")"
   ]
  },
  {
   "cell_type": "code",
   "execution_count": null,
   "metadata": {
    "ExecuteTime": {
     "end_time": "2020-08-27T19:51:43.639574Z",
     "start_time": "2020-08-27T19:51:43.632329Z"
    }
   },
   "outputs": [],
   "source": [
    "psd3 = ISIS_SANS2d_Mantid.add_component(\"psd3\", \"PSD_monitor\")\n",
    "psd3.nx = 100\n",
    "psd3.ny = 100\n",
    "psd3.filename = \"\\\"psd3.dat\\\"\"\n",
    "psd3.xmin = -0.030\n",
    "psd3.xmax = 0.030\n",
    "psd3.ymin = -0.030\n",
    "psd3.ymax = 0.030\n",
    "psd3.set_AT(['0.0', ' 0.0', ' 7.999'], RELATIVE=\"guide_in\")"
   ]
  },
  {
   "cell_type": "code",
   "execution_count": null,
   "metadata": {
    "ExecuteTime": {
     "end_time": "2020-08-27T19:51:43.908590Z",
     "start_time": "2020-08-27T19:51:43.904504Z"
    }
   },
   "outputs": [],
   "source": [
    "aperture1 = ISIS_SANS2d_Mantid.add_component(\"aperture1\", \"Slit\")\n",
    "aperture1.xwidth = \"A1w\"\n",
    "aperture1.yheight = \"A1h\"\n",
    "aperture1.set_AT(['0', ' 0', ' 8.000'], RELATIVE=\"guide_in\")"
   ]
  },
  {
   "cell_type": "code",
   "execution_count": null,
   "metadata": {
    "ExecuteTime": {
     "end_time": "2020-08-27T19:51:44.246858Z",
     "start_time": "2020-08-27T19:51:44.241989Z"
    }
   },
   "outputs": [],
   "source": [
    "lmonitor2 = ISIS_SANS2d_Mantid.add_component(\"lmonitor2\", \"L_monitor\")\n",
    "lmonitor2.nL = 140\n",
    "lmonitor2.filename = \"\\\"lmonitor2.dat\\\"\"\n",
    "lmonitor2.xmin = -0.0155\n",
    "lmonitor2.xmax = 0.0155\n",
    "lmonitor2.ymin = -0.0105\n",
    "lmonitor2.ymax = 0.0105\n",
    "lmonitor2.Lmin = 0.0\n",
    "lmonitor2.Lmax = 17.0\n",
    "lmonitor2.set_AT(['0.0', ' 0.0', ' 2.651'], RELATIVE=\"aperture1\")"
   ]
  },
  {
   "cell_type": "code",
   "execution_count": null,
   "metadata": {
    "ExecuteTime": {
     "end_time": "2020-08-27T19:51:44.546059Z",
     "start_time": "2020-08-27T19:51:44.542394Z"
    }
   },
   "outputs": [],
   "source": [
    "S6 = ISIS_SANS2d_Mantid.add_component(\"S6\", \"Slit\")\n",
    "S6.radius = \"S6\"\n",
    "S6.set_AT(['0', ' 0', ' 2.800'], RELATIVE=\"aperture1\")"
   ]
  },
  {
   "cell_type": "code",
   "execution_count": null,
   "metadata": {
    "ExecuteTime": {
     "end_time": "2020-08-27T19:51:44.894094Z",
     "start_time": "2020-08-27T19:51:44.890418Z"
    }
   },
   "outputs": [],
   "source": [
    "sourceMantid = ISIS_SANS2d_Mantid.add_component(\"sourceMantid\", \"Arm\")\n",
    "sourceMantid.set_AT(['0', ' 0', ' -18.087'], RELATIVE=\"S6\")"
   ]
  },
  {
   "cell_type": "code",
   "execution_count": null,
   "metadata": {
    "ExecuteTime": {
     "end_time": "2020-08-27T19:51:45.273590Z",
     "start_time": "2020-08-27T19:51:45.270021Z"
    }
   },
   "outputs": [],
   "source": [
    "APERTURE2 = ISIS_SANS2d_Mantid.add_component(\"APERTURE2\", \"Slit\")\n",
    "APERTURE2.radius = \"A2\"\n",
    "APERTURE2.set_AT(['0', ' 0', ' L1 '], RELATIVE=\"aperture1\")"
   ]
  },
  {
   "cell_type": "code",
   "execution_count": null,
   "metadata": {
    "ExecuteTime": {
     "end_time": "2020-08-27T19:51:45.618744Z",
     "start_time": "2020-08-27T19:51:45.613968Z"
    }
   },
   "outputs": [],
   "source": [
    "lmon2 = ISIS_SANS2d_Mantid.add_component(\"lmon2\", \"L_monitor\")\n",
    "lmon2.nL = 140\n",
    "lmon2.filename = \"\\\"Edet0.dat\\\"\"\n",
    "lmon2.xmin = -0.0075\n",
    "lmon2.xmax = 0.0075\n",
    "lmon2.ymin = -0.0075\n",
    "lmon2.ymax = 0.0075\n",
    "lmon2.Lmin = 0.0\n",
    "lmon2.Lmax = 17.0\n",
    "lmon2.set_AT(['0.0', ' 0.0', ' 0.285'], RELATIVE=\"APERTURE2\")"
   ]
  },
  {
   "cell_type": "code",
   "execution_count": null,
   "metadata": {
    "ExecuteTime": {
     "end_time": "2020-08-27T19:51:46.083239Z",
     "start_time": "2020-08-27T19:51:46.077300Z"
    }
   },
   "outputs": [],
   "source": [
    "psd4 = ISIS_SANS2d_Mantid.add_component(\"psd4\", \"PSD_monitor\")\n",
    "psd4.nx = 100\n",
    "psd4.ny = 100\n",
    "psd4.filename = \"\\\"psd4.dat\\\"\"\n",
    "psd4.xmin = -0.0075\n",
    "psd4.xmax = 0.0075\n",
    "psd4.ymin = -0.0075\n",
    "psd4.ymax = 0.0075\n",
    "psd4.set_AT(['0.0', ' 0.0', ' 0.286'], RELATIVE=\"APERTURE2\")\n",
    "\n",
    "psd5 = ISIS_SANS2d_Mantid.add_component(\"psd5\", \"PSD_monitor\")\n",
    "psd5.nx = 100\n",
    "psd5.ny = 100\n",
    "psd5.filename = \"\\\"psd5.dat\\\"\"\n",
    "psd5.xmin = -0.0075\n",
    "psd5.xmax = 0.0075\n",
    "psd5.ymin = -0.0075\n",
    "psd5.ymax = 0.0075\n",
    "psd5.restore_neutron = 1\n",
    "psd5.set_AT(['0.0', ' 0.0', ' 0.18'], RELATIVE=\"psd4\")"
   ]
  },
  {
   "cell_type": "code",
   "execution_count": null,
   "metadata": {
    "ExecuteTime": {
     "end_time": "2020-08-27T19:51:46.454918Z",
     "start_time": "2020-08-27T19:51:46.448495Z"
    }
   },
   "outputs": [],
   "source": [
    "sampleMantid = ISIS_SANS2d_Mantid.add_component(\"sampleMantid\", \"SANS_benchmark2\")\n",
    "sampleMantid.xwidth = 0.01\n",
    "sampleMantid.yheight = 0.01\n",
    "sampleMantid.zthick = 0.001\n",
    "sampleMantid.model = \"model_nr\"\n",
    "sampleMantid.dsdw_inc = 0.0\n",
    "sampleMantid.sc_aim = 1.0\n",
    "sampleMantid.sans_aim = 1.00\n",
    "sampleMantid.singlesp = 1.0\n",
    "sampleMantid.append_EXTEND(\"if (!SCATTERED) ABSORB;\")\n",
    "sampleMantid.set_SPLIT(\"\")\n",
    "sampleMantid.set_AT(['0', ' 0', ' 0.2'], RELATIVE=\"psd4\")"
   ]
  },
  {
   "cell_type": "code",
   "execution_count": null,
   "metadata": {
    "ExecuteTime": {
     "end_time": "2020-08-27T19:51:46.872835Z",
     "start_time": "2020-08-27T19:51:46.868714Z"
    }
   },
   "outputs": [],
   "source": [
    "detector = ISIS_SANS2d_Mantid.add_component(\"detector\", \"PSD_monitor\")\n",
    "detector.nx = 200\n",
    "detector.ny = 200\n",
    "detector.filename = \"\\\"PSD.dat\\\"\"\n",
    "detector.xmin = -0.5\n",
    "detector.xmax = 0.5\n",
    "detector.ymin = -0.5\n",
    "detector.ymax = 0.5\n",
    "detector.restore_neutron = 1\n",
    "detector.set_AT(['0', ' 0', ' 3.9'], RELATIVE=\"sampleMantid\")"
   ]
  },
  {
   "cell_type": "code",
   "execution_count": null,
   "metadata": {
    "ExecuteTime": {
     "end_time": "2020-08-27T19:51:47.549272Z",
     "start_time": "2020-08-27T19:51:47.542445Z"
    }
   },
   "outputs": [],
   "source": [
    "nD_Mantid_1 = ISIS_SANS2d_Mantid.add_component(\"nD_Mantid_1\", \"Monitor_nD\")\n",
    "nD_Mantid_1.xmin = -0.5\n",
    "nD_Mantid_1.xmax = 0.5\n",
    "nD_Mantid_1.ymin = -0.5\n",
    "nD_Mantid_1.ymax = 0.5\n",
    "nD_Mantid_1.restore_neutron = 1\n",
    "nD_Mantid_1.options = \"\\\"mantid square x limits=[-0.5 0.5] bins=128 y limits=[-0.5 0.5] bins=128,, neutron pixel t,, list all neutrons\\\"\"\n",
    "nD_Mantid_1.filename = \"\\\"bank01_events.dat\\\"\"\n",
    "nD_Mantid_1.set_AT(['0', ' 0', ' 3.9'], RELATIVE=\"sampleMantid\")"
   ]
  },
  {
   "cell_type": "code",
   "execution_count": null,
   "metadata": {
    "ExecuteTime": {
     "end_time": "2020-08-27T19:51:47.927225Z",
     "start_time": "2020-08-27T19:51:47.921408Z"
    }
   },
   "outputs": [],
   "source": [
    "lmon_post = ISIS_SANS2d_Mantid.add_component(\"lmon_post\", \"L_monitor\")\n",
    "lmon_post.nL = 140\n",
    "lmon_post.filename = \"\\\"lmonitor_post.dat\\\"\"\n",
    "lmon_post.xmin = -0.5\n",
    "lmon_post.xmax = 0.5\n",
    "lmon_post.ymin = -0.5\n",
    "lmon_post.ymax = 0.5\n",
    "lmon_post.Lmin = 0.0\n",
    "lmon_post.Lmax = 17.0\n",
    "lmon_post.restore_neutron = 1\n",
    "lmon_post.set_AT(['0.0', ' 0.0', ' 3.9'], RELATIVE=\"sampleMantid\")"
   ]
  },
  {
   "cell_type": "markdown",
   "metadata": {},
   "source": [
    "# McStas Simulation"
   ]
  },
  {
   "cell_type": "markdown",
   "metadata": {},
   "source": [
    "## Run McStas"
   ]
  },
  {
   "cell_type": "code",
   "execution_count": null,
   "metadata": {
    "ExecuteTime": {
     "end_time": "2020-08-27T19:52:02.755961Z",
     "start_time": "2020-08-27T19:51:49.588604Z"
    }
   },
   "outputs": [],
   "source": [
    "data = ISIS_SANS2d_Mantid.run_full_instrument(foldername=\"data_1E5_nr15\", parameters={\"model_nr\":15}, ncount=1E5)"
   ]
  },
  {
   "cell_type": "code",
   "execution_count": null,
   "metadata": {
    "ExecuteTime": {
     "end_time": "2020-08-27T19:52:06.583480Z",
     "start_time": "2020-08-27T19:52:02.759313Z"
    }
   },
   "outputs": [],
   "source": [
    "plot = plotter.make_sub_plot(data)"
   ]
  },
  {
   "cell_type": "markdown",
   "metadata": {},
   "source": [
    "## McStas IDF for Mantid"
   ]
  },
  {
   "cell_type": "code",
   "execution_count": null,
   "metadata": {
    "ExecuteTime": {
     "end_time": "2020-08-27T19:52:06.587731Z",
     "start_time": "2020-08-27T19:52:06.585020Z"
    }
   },
   "outputs": [],
   "source": [
    "import subprocess"
   ]
  },
  {
   "cell_type": "code",
   "execution_count": null,
   "metadata": {
    "ExecuteTime": {
     "end_time": "2020-08-27T19:52:06.597691Z",
     "start_time": "2020-08-27T19:52:06.593924Z"
    }
   },
   "outputs": [],
   "source": [
    "cmd_idf = \"mcdisplay.pl ISIS_SANS2d_Mantid_generated.instr --format=Mantid -n0 model_nr=5\""
   ]
  },
  {
   "cell_type": "code",
   "execution_count": null,
   "metadata": {
    "ExecuteTime": {
     "end_time": "2020-08-27T19:52:06.845379Z",
     "start_time": "2020-08-27T19:52:06.600247Z"
    }
   },
   "outputs": [],
   "source": [
    "subprocess.call([cmd_idf], shell=True)"
   ]
  },
  {
   "cell_type": "markdown",
   "metadata": {},
   "source": [
    "## Run McStas with NeXus - CLI"
   ]
  },
  {
   "cell_type": "code",
   "execution_count": null,
   "metadata": {
    "ExecuteTime": {
     "end_time": "2020-08-27T19:52:06.852584Z",
     "start_time": "2020-08-27T19:52:06.848671Z"
    }
   },
   "outputs": [],
   "source": [
    "cmd_nexus = \"mcstas ISIS_SANS2d_Mantid_generated.instr --trace; gcc -o ISIS_SANS2d_Mantid_generated.out ISIS_SANS2d_Mantid_generated.c -lm -DUSE_NEXUS -lNeXus -I/usr/include/nexus; ./ISIS_SANS2d_Mantid_generated.out --format=NeXus -d 1E6 --ncount=1E6 model_nr=5\" "
   ]
  },
  {
   "cell_type": "code",
   "execution_count": null,
   "metadata": {
    "ExecuteTime": {
     "end_time": "2020-08-27T19:52:14.864441Z",
     "start_time": "2020-08-27T19:52:06.855358Z"
    }
   },
   "outputs": [],
   "source": [
    "subprocess.call([cmd_nexus], shell=True)"
   ]
  },
  {
   "cell_type": "code",
   "execution_count": null,
   "metadata": {
    "ExecuteTime": {
     "end_time": "2020-08-27T19:52:14.870881Z",
     "start_time": "2020-08-27T19:52:14.867678Z"
    }
   },
   "outputs": [],
   "source": [
    "data_nexus = '1E6/mccode.h5'"
   ]
  },
  {
   "cell_type": "markdown",
   "metadata": {},
   "source": [
    "# Mantid"
   ]
  },
  {
   "cell_type": "markdown",
   "metadata": {},
   "source": [
    "## Setup Mantid"
   ]
  },
  {
   "cell_type": "code",
   "execution_count": null,
   "metadata": {
    "ExecuteTime": {
     "end_time": "2020-08-27T19:52:21.989181Z",
     "start_time": "2020-08-27T19:52:21.100826Z"
    }
   },
   "outputs": [],
   "source": [
    "from mantid.simpleapi import *"
   ]
  },
  {
   "cell_type": "markdown",
   "metadata": {},
   "source": [
    "## Load event data"
   ]
  },
  {
   "cell_type": "code",
   "execution_count": null,
   "metadata": {
    "ExecuteTime": {
     "end_time": "2020-08-27T19:52:23.131342Z",
     "start_time": "2020-08-27T19:52:21.991027Z"
    }
   },
   "outputs": [],
   "source": [
    "# Load McStas event data from section 1\n",
    "ws = Load(data_nexus)"
   ]
  },
  {
   "cell_type": "markdown",
   "metadata": {},
   "source": [
    "## Rebin TOF"
   ]
  },
  {
   "cell_type": "code",
   "execution_count": null,
   "metadata": {
    "ExecuteTime": {
     "end_time": "2020-08-27T19:52:23.433422Z",
     "start_time": "2020-08-27T19:52:23.133450Z"
    }
   },
   "outputs": [],
   "source": [
    "sample = Rebin(ws[0],'1000', False)"
   ]
  },
  {
   "cell_type": "markdown",
   "metadata": {},
   "source": [
    "## Convert to lambda"
   ]
  },
  {
   "cell_type": "code",
   "execution_count": null,
   "metadata": {
    "ExecuteTime": {
     "end_time": "2020-08-27T19:52:23.461096Z",
     "start_time": "2020-08-27T19:52:23.436249Z"
    }
   },
   "outputs": [],
   "source": [
    "sample = ConvertUnits(sample, 'Wavelength')"
   ]
  },
  {
   "cell_type": "markdown",
   "metadata": {},
   "source": [
    "## Rebin lamba"
   ]
  },
  {
   "cell_type": "code",
   "execution_count": null,
   "metadata": {
    "ExecuteTime": {
     "end_time": "2020-08-27T19:52:24.860608Z",
     "start_time": "2020-08-27T19:52:24.369650Z"
    }
   },
   "outputs": [],
   "source": [
    "binning = '1.75,0.1,16.5'\n",
    "sample = Rebin(sample, binning)"
   ]
  },
  {
   "cell_type": "markdown",
   "metadata": {},
   "source": [
    "## Load McStas normalization spectrum"
   ]
  },
  {
   "cell_type": "code",
   "execution_count": null,
   "metadata": {
    "ExecuteTime": {
     "end_time": "2020-08-27T19:52:25.148272Z",
     "start_time": "2020-08-27T19:52:25.142967Z"
    }
   },
   "outputs": [],
   "source": [
    "mcstasMonitor = CloneWorkspace(mtd['Edet0.dat_ws'])"
   ]
  },
  {
   "cell_type": "markdown",
   "metadata": {},
   "source": [
    "## Convert McStas data to Mantid histogram"
   ]
  },
  {
   "cell_type": "code",
   "execution_count": null,
   "metadata": {
    "ExecuteTime": {
     "end_time": "2020-08-27T19:52:25.998263Z",
     "start_time": "2020-08-27T19:52:25.978388Z"
    }
   },
   "outputs": [],
   "source": [
    "mcstasMonitor = ConvertToHistogram(mcstasMonitor)\n",
    "mcstasMonitor = rebin(mcstasMonitor, binning)\n",
    "monitor     = CreateWorkspace(mcstasMonitor.dataX(0), mcstasMonitor.dataY(0), mcstasMonitor.dataE(0), UnitX='Wavelength')"
   ]
  },
  {
   "cell_type": "markdown",
   "metadata": {},
   "source": [
    "##  Setup q grid"
   ]
  },
  {
   "cell_type": "code",
   "execution_count": null,
   "metadata": {
    "ExecuteTime": {
     "end_time": "2020-08-27T19:52:27.015060Z",
     "start_time": "2020-08-27T19:52:27.011004Z"
    }
   },
   "outputs": [],
   "source": [
    "binningMASK\t= '0.0035,0.001,0.4'"
   ]
  },
  {
   "cell_type": "markdown",
   "metadata": {},
   "source": [
    "## Reduce to I(q) and normailzed"
   ]
  },
  {
   "cell_type": "code",
   "execution_count": null,
   "metadata": {
    "ExecuteTime": {
     "end_time": "2020-08-27T19:52:35.396520Z",
     "start_time": "2020-08-27T19:52:34.970673Z"
    }
   },
   "outputs": [],
   "source": [
    "reduced_norm = Q1D(sample, binningMASK, WavelengthAdj='monitor')"
   ]
  },
  {
   "cell_type": "markdown",
   "metadata": {},
   "source": [
    "## Save file"
   ]
  },
  {
   "cell_type": "code",
   "execution_count": null,
   "metadata": {
    "ExecuteTime": {
     "end_time": "2020-08-27T19:52:35.942962Z",
     "start_time": "2020-08-27T19:52:35.937186Z"
    }
   },
   "outputs": [],
   "source": [
    "SaveAscii(InputWorkspace='reduced_norm', Filename='Mantid_reduced.dat', Separator='Tab', ScientificFormat=True)"
   ]
  },
  {
   "cell_type": "markdown",
   "metadata": {},
   "source": [
    "## Plot I(q)"
   ]
  },
  {
   "cell_type": "code",
   "execution_count": null,
   "metadata": {
    "ExecuteTime": {
     "end_time": "2020-08-27T19:52:36.934503Z",
     "start_time": "2020-08-27T19:52:36.931139Z"
    }
   },
   "outputs": [],
   "source": [
    "#%matplotlib notebook\n",
    "import matplotlib.pyplot as plt\n",
    "import numpy as np"
   ]
  },
  {
   "cell_type": "code",
   "execution_count": null,
   "metadata": {
    "ExecuteTime": {
     "end_time": "2020-08-27T19:52:37.482331Z",
     "start_time": "2020-08-27T19:52:37.477676Z"
    }
   },
   "outputs": [],
   "source": [
    "# Remove zero and inf\n",
    "data_q = np.column_stack((reduced_norm.readX(0)[:-1], reduced_norm.readY(0)))\n",
    "data_q = data_q[np.logical_not(np.isnan(data_q[:, 1]))]\n",
    "data_q = data_q[np.logical_not(np.isinf(data_q[:, 1]))]\n",
    "data_q = data_q[data_q[:, 1] != 0]"
   ]
  },
  {
   "cell_type": "code",
   "execution_count": null,
   "metadata": {
    "ExecuteTime": {
     "end_time": "2020-08-27T19:52:38.269501Z",
     "start_time": "2020-08-27T19:52:37.918514Z"
    }
   },
   "outputs": [],
   "source": [
    "plt.plot(data_q[:,0], data_q[:,1], 'k-', lw=2)\n",
    "plt.yscale('log')\n",
    "plt.xlabel('q [ 1/Å ]')\n",
    "plt.ylabel('I(q) [a.u.]')"
   ]
  },
  {
   "cell_type": "code",
   "execution_count": null,
   "metadata": {
    "ExecuteTime": {
     "end_time": "2020-08-27T19:52:38.390986Z",
     "start_time": "2020-08-27T19:52:38.384765Z"
    }
   },
   "outputs": [],
   "source": [
    "# Save data for SasView\n",
    "np.savetxt(\"Iq_cleaned.dat\", data_q, header=\"<X>   <Y>\", comments='')"
   ]
  },
  {
   "cell_type": "code",
   "execution_count": null,
   "metadata": {
    "ExecuteTime": {
     "end_time": "2020-08-27T19:52:39.275885Z",
     "start_time": "2020-08-27T19:52:39.268685Z"
    }
   },
   "outputs": [],
   "source": [
    "# Save data for SasView with errors\n",
    "data_q_err = np.column_stack((data_q[:,0], data_q[:,1], 0.2*data_q[:,1]))\n",
    "np.savetxt(\"Iq_cleaned_err.dat\", data_q_err, header=\"<X>   <Y>   <dY>\", comments='')"
   ]
  },
  {
   "cell_type": "code",
   "execution_count": null,
   "metadata": {
    "ExecuteTime": {
     "end_time": "2020-08-27T19:52:39.638151Z",
     "start_time": "2020-08-27T19:52:39.634851Z"
    }
   },
   "outputs": [],
   "source": [
    "Iq_file = \"Iq_cleaned_err.dat\""
   ]
  },
  {
   "cell_type": "markdown",
   "metadata": {},
   "source": [
    "# SasView"
   ]
  },
  {
   "cell_type": "markdown",
   "metadata": {},
   "source": [
    "## Setup Sasmodles and SasView"
   ]
  },
  {
   "cell_type": "code",
   "execution_count": null,
   "metadata": {
    "ExecuteTime": {
     "end_time": "2020-08-27T19:52:40.949261Z",
     "start_time": "2020-08-27T19:52:40.872585Z"
    }
   },
   "outputs": [],
   "source": [
    "from sasmodels.core import load_model\n",
    "from sasmodels.bumps_model import Model, Experiment\n",
    "from sasmodels.data import load_data\n",
    "\n",
    "from bumps.names import *\n",
    "from bumps.fitters import fit\n",
    "from bumps.formatnum import format_uncertainty\n",
    "from bumps.formatnum import *\n",
    "from bumps.dream.stats import var_stats, format_vars"
   ]
  },
  {
   "cell_type": "markdown",
   "metadata": {},
   "source": [
    "## Setup fit function"
   ]
  },
  {
   "cell_type": "markdown",
   "metadata": {},
   "source": [
    "### Without polydispersion"
   ]
  },
  {
   "cell_type": "code",
   "execution_count": null,
   "metadata": {
    "ExecuteTime": {
     "end_time": "2020-08-27T19:52:42.273218Z",
     "start_time": "2020-08-27T19:52:42.266700Z"
    }
   },
   "outputs": [],
   "source": [
    "def fit_data(filename, fit_method, bumps_samples, bumps_burn):\n",
    "    \"\"\"\n",
    "    Run SasView SasModels fit\n",
    "    :return:\n",
    "    \"\"\"\n",
    "\n",
    "    # Load data to fit\n",
    "    test_data = load_data(filename)\n",
    "\n",
    "    # Set up fit model\n",
    "    kernel = load_model('sphere')\n",
    "\n",
    "    pars = dict(radius=150,\n",
    "                background=0.0,\n",
    "                scale=1E-6,\n",
    "                sld=7.0,\n",
    "                sld_solvent=1.0)\n",
    "    model = Model(kernel, **pars)\n",
    "\n",
    "    # SET THE FITTING PARAMETERS\n",
    "    model.radius.range(10, 200)\n",
    "    model.scale.range(1E-7, 1E0)\n",
    "    model.background.range(0, 1000)\n",
    "\n",
    "    M = Experiment(data=test_data, model=model)\n",
    "    problem = FitProblem(M)\n",
    "    print(\"Initial chisq\", problem.chisq_str())\n",
    "\n",
    "    result = fit(problem, method=fit_method, samples=bumps_samples, burn=bumps_burn)\n",
    "\n",
    "    draw = result.state.draw(portion=1.0)\n",
    "    all_vstats = var_stats(draw)\n",
    "\n",
    "    return all_vstats\n",
    "\n",
    "\n"
   ]
  },
  {
   "cell_type": "markdown",
   "metadata": {},
   "source": [
    "### With polydispersion"
   ]
  },
  {
   "cell_type": "code",
   "execution_count": null,
   "metadata": {
    "ExecuteTime": {
     "end_time": "2020-08-27T19:52:43.071137Z",
     "start_time": "2020-08-27T19:52:43.065120Z"
    }
   },
   "outputs": [],
   "source": [
    "def fit_data_pd(filename, fit_method, bumps_samples, bumps_burn):\n",
    "    \"\"\"\n",
    "    Run SasView SasModels fit\n",
    "    :return:\n",
    "    \"\"\"\n",
    "\n",
    "    # Load data to fit\n",
    "    test_data = load_data(filename)\n",
    "\n",
    "    # Set up fit model\n",
    "    kernel = load_model('sphere')\n",
    "\n",
    "    pars = dict(radius=150,\n",
    "                background=0.0,\n",
    "                scale=1E-6,\n",
    "                sld=7.0,\n",
    "                sld_solvent=1.0,\n",
    "                radius_pd=0.03,\n",
    "                radius_pd_n=35,\n",
    "                radius_pd_nsigma=3)\n",
    "    model = Model(kernel, **pars)\n",
    "\n",
    "    # SET THE FITTING PARAMETERS\n",
    "    model.radius.range(10, 200)\n",
    "    model.scale.range(1E-7, 1E1)\n",
    "    model.background.range(0, 100)\n",
    "    model.radius_pd.range(0.0, 0.1)\n",
    "\n",
    "    M = Experiment(data=test_data, model=model)\n",
    "    problem = FitProblem(M)\n",
    "    print(\"Initial chisq\", problem.chisq_str())\n",
    "\n",
    "    result = fit(problem, method=fit_method, samples=bumps_samples, burn=bumps_burn)\n",
    "\n",
    "    draw = result.state.draw(portion=1.0)\n",
    "    all_vstats = var_stats(draw)\n",
    "\n",
    "    return all_vstats\n",
    "\n"
   ]
  },
  {
   "cell_type": "markdown",
   "metadata": {},
   "source": [
    "## Setup print all results function"
   ]
  },
  {
   "cell_type": "code",
   "execution_count": null,
   "metadata": {
    "ExecuteTime": {
     "end_time": "2020-08-27T19:52:43.854419Z",
     "start_time": "2020-08-27T19:52:43.850516Z"
    }
   },
   "outputs": [],
   "source": [
    "def print_all_results(bumps_fit_result):\n",
    "    \"\"\"\n",
    "    Print parameters for fit\n",
    "    :param bumps_fit_result:\n",
    "    :return:\n",
    "    \"\"\"\n",
    "    for v in bumps_fit_result:\n",
    "        print(v.label, v.mean, v.median, v.best, v.p68[0], v.p68[1], v.p95[0], v.p95[1])\n",
    "        \n",
    "    "
   ]
  },
  {
   "cell_type": "markdown",
   "metadata": {},
   "source": [
    "## Setup print parameter result function"
   ]
  },
  {
   "cell_type": "code",
   "execution_count": null,
   "metadata": {
    "ExecuteTime": {
     "end_time": "2020-08-27T19:52:44.913353Z",
     "start_time": "2020-08-27T19:52:44.908766Z"
    }
   },
   "outputs": [],
   "source": [
    "def print_results(bumps_fit_result, parmeter_to_print, conf_interval):\n",
    "    \"\"\"\n",
    "    SasModels \"true\" parmeter can be [v.mean, v.median, v.best]\n",
    "    :param bumps_fit_result:\n",
    "    :param parmeter_to_print:\n",
    "    :param conf_interval:\n",
    "    :return:\n",
    "    \"\"\"\n",
    "\n",
    "    for v in bumps_fit_result:\n",
    "        if v.label == parmeter_to_print:\n",
    "            if conf_interval:\n",
    "                print(parmeter_to_print + ': ' + str(v.best) + ',' + str(0.5*(v.p95[1]-v.p95[0])) + '\\n')\n",
    "            else:\n",
    "                print(parmeter_to_print + ': ' + v.best + ',' + 0.5*(v.p68[1]-v.p68[0]) + '\\n')\n",
    "     \n",
    "\n",
    "    "
   ]
  },
  {
   "cell_type": "markdown",
   "metadata": {},
   "source": [
    "## Fit data"
   ]
  },
  {
   "cell_type": "code",
   "execution_count": null,
   "metadata": {
    "ExecuteTime": {
     "end_time": "2020-08-27T19:52:50.465170Z",
     "start_time": "2020-08-27T19:52:45.657757Z"
    }
   },
   "outputs": [],
   "source": [
    "# Fit data from just made McStas-Mantid workflow. With polydisersion.\n",
    "fit_result = fit_data('Iq_cleaned_err.dat', 'dream', 10000, 100)"
   ]
  },
  {
   "cell_type": "code",
   "execution_count": null,
   "metadata": {
    "ExecuteTime": {
     "end_time": "2020-08-27T19:53:01.190306Z",
     "start_time": "2020-08-27T19:52:50.467267Z"
    }
   },
   "outputs": [],
   "source": [
    "# Fit data from just made McStas-Mantid workflow. With polydisersion.\n",
    "fit_result_pd = fit_data_pd('Iq_cleaned_err.dat', 'dream', 10000, 100)"
   ]
  },
  {
   "cell_type": "markdown",
   "metadata": {},
   "source": [
    "## Print results"
   ]
  },
  {
   "cell_type": "code",
   "execution_count": null,
   "metadata": {
    "ExecuteTime": {
     "end_time": "2020-08-27T19:53:03.336183Z",
     "start_time": "2020-08-27T19:53:03.330113Z"
    }
   },
   "outputs": [],
   "source": [
    "print_results(fit_result, 'radius', True)\n",
    "print_results(fit_result, 'scale', True)\n",
    "print_results(fit_result, 'background', True)"
   ]
  },
  {
   "cell_type": "code",
   "execution_count": null,
   "metadata": {
    "ExecuteTime": {
     "end_time": "2020-08-27T19:53:03.700786Z",
     "start_time": "2020-08-27T19:53:03.695934Z"
    }
   },
   "outputs": [],
   "source": [
    "print_results(fit_result_pd, 'radius', True)\n",
    "print_results(fit_result_pd, 'scale', True)\n",
    "print_results(fit_result_pd, 'background', True)\n",
    "print_results(fit_result_pd, 'radius_pd', True)"
   ]
  },
  {
   "cell_type": "markdown",
   "metadata": {},
   "source": [
    "## Plot data and model - Without polydispersion"
   ]
  },
  {
   "cell_type": "code",
   "execution_count": null,
   "metadata": {
    "ExecuteTime": {
     "end_time": "2020-08-27T19:53:09.216104Z",
     "start_time": "2020-08-27T19:53:08.847840Z"
    }
   },
   "outputs": [],
   "source": [
    "# Plot McStas-Mantid data and SasView model. Without polydispersion.\n",
    "from numpy import logspace, linspace\n",
    "from matplotlib import pyplot as plt\n",
    "from sasmodels.core import load_model\n",
    "from sasmodels.direct_model import call_kernel\n",
    "\n",
    "# Load data\n",
    "q2, Iq2, Iqerr2 = np.loadtxt('Iq_cleaned_err.dat', unpack=True, skiprows=2)\n",
    "\n",
    "model = load_model('sphere')\n",
    "q =linspace(0.001, 0.5, num=200)\n",
    "\n",
    "kernel = model.make_kernel([q])\n",
    "Iq = call_kernel(kernel, dict(radius=25.62, scale=5.33e-05, background=6.09e-07, sld=7.0, sld_solvent=1.0))\n",
    "plt.semilogy(q, Iq, label='SasView')\n",
    "plt.semilogy(q2, Iq2, label='McStas_Mantid')\n",
    "plt.xlabel('q (1/A)')\n",
    "plt.ylabel('I(q)')\n",
    "plt.title('McStas-Mantid: Sphere radius 150 Å. Without polydispersion.')\n",
    "plt.legend(loc='upper right')\n",
    "plt.show()"
   ]
  },
  {
   "cell_type": "markdown",
   "metadata": {},
   "source": [
    "## Plot data and model - With polydispersion"
   ]
  },
  {
   "cell_type": "code",
   "execution_count": null,
   "metadata": {
    "ExecuteTime": {
     "end_time": "2020-08-27T19:53:12.092565Z",
     "start_time": "2020-08-27T19:53:11.730860Z"
    }
   },
   "outputs": [],
   "source": [
    "# Plot McStas-Mantid data and SasView model. With polydispersion to mimic instrument resolution effects.\n",
    "# Still same mono-disperse McStas scattering kernel.\n",
    "from numpy import logspace, linspace\n",
    "from matplotlib import pyplot as plt\n",
    "from sasmodels.core import load_model\n",
    "from sasmodels.direct_model import call_kernel\n",
    "\n",
    "# Load data\n",
    "q2, Iq2, Iqerr2 = np.loadtxt('Iq_cleaned_err.dat', unpack=True, skiprows=2)\n",
    "\n",
    "model = load_model('sphere')\n",
    "q =linspace(0.001, 0.5, num=200)\n",
    "\n",
    "kernel = model.make_kernel([q])\n",
    "Iq = call_kernel(kernel, dict(radius=25.33, radius_pd=0.035,radius_pd_n=35 , scale=5.41e-05, background=9.32e-10, sld=7.0, sld_solvent=1.0))\n",
    "plt.semilogy(q, Iq, label='SasView')\n",
    "plt.semilogy(q2, Iq2, label='McStas_Mantid')\n",
    "plt.xlabel('q (1/A)')\n",
    "plt.ylabel('I(q)')\n",
    "plt.title('McStas-Mantid: Sphere radius 150 Å. With ploydispersion.')\n",
    "plt.legend(loc='upper right')\n",
    "plt.show()"
   ]
  },
  {
   "cell_type": "markdown",
   "metadata": {},
   "source": [
    "# Convert to py"
   ]
  },
  {
   "cell_type": "code",
   "execution_count": null,
   "metadata": {
    "ExecuteTime": {
     "end_time": "2020-08-27T19:53:18.635251Z",
     "start_time": "2020-08-27T19:53:18.044485Z"
    }
   },
   "outputs": [],
   "source": [
    "!jupytext --to py SANS2D.ipynb"
   ]
  },
  {
   "cell_type": "code",
   "execution_count": null,
   "metadata": {},
   "outputs": [],
   "source": []
  }
 ],
 "metadata": {
  "kernelspec": {
   "display_name": "Python 3",
   "language": "python",
   "name": "python3"
  },
  "language_info": {
   "codemirror_mode": {
    "name": "ipython",
    "version": 3
   },
   "file_extension": ".py",
   "mimetype": "text/x-python",
   "name": "python",
   "nbconvert_exporter": "python",
   "pygments_lexer": "ipython3",
   "version": "3.7.8"
  },
  "toc": {
   "base_numbering": 1,
   "nav_menu": {},
   "number_sections": true,
   "sideBar": true,
   "skip_h1_title": false,
   "title_cell": "Table of Contents",
   "title_sidebar": "Contents",
   "toc_cell": false,
   "toc_position": {
    "height": "calc(100% - 180px)",
    "left": "10px",
    "top": "150px",
    "width": "306.390625px"
   },
   "toc_section_display": true,
   "toc_window_display": true
  }
 },
 "nbformat": 4,
 "nbformat_minor": 2
}
