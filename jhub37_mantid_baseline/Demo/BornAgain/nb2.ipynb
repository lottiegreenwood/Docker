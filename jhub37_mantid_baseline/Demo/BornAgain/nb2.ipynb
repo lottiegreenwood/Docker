{
 "cells": [
  {
   "cell_type": "code",
   "execution_count": null,
   "metadata": {
    "ExecuteTime": {
     "end_time": "2020-10-14T14:45:50.730608Z",
     "start_time": "2020-10-14T14:45:50.390174Z"
    }
   },
   "outputs": [],
   "source": [
    "\"\"\"\n",
    "Mixture of cylinders and prisms without interference\n",
    "\"\"\"\n",
    "import bornagain as ba\n",
    "from bornagain import deg, angstrom, nm"
   ]
  },
  {
   "cell_type": "code",
   "execution_count": null,
   "metadata": {
    "ExecuteTime": {
     "end_time": "2020-10-14T14:45:50.966072Z",
     "start_time": "2020-10-14T14:45:50.960800Z"
    }
   },
   "outputs": [],
   "source": [
    "def get_sample():\n",
    "    \"\"\"\n",
    "    Returns a sample with cylinders in a homogeneous environment (\"air\"),\n",
    "    implying a simulation in plain Born approximation.\n",
    "    \"\"\"\n",
    "    # defining materials\n",
    "    m_ambience = ba.HomogeneousMaterial(\"Air\", 0.0, 0.0)\n",
    "    m_particle = ba.HomogeneousMaterial(\"Particle\", 6e-4, 2e-8)\n",
    "\n",
    "    # collection of particles\n",
    "    cylinder_ff = ba.FormFactorCylinder(5*nm, 5*nm)\n",
    "    cylinder = ba.Particle(m_particle, cylinder_ff)\n",
    "    particle_layout = ba.ParticleLayout()\n",
    "    particle_layout.addParticle(cylinder, 1.0)\n",
    "\n",
    "    air_layer = ba.Layer(m_ambience)\n",
    "    air_layer.addLayout(particle_layout)\n",
    "\n",
    "    multi_layer = ba.MultiLayer()\n",
    "    multi_layer.addLayer(air_layer)\n",
    "    return multi_layer"
   ]
  },
  {
   "cell_type": "code",
   "execution_count": null,
   "metadata": {
    "ExecuteTime": {
     "end_time": "2020-10-14T14:45:51.403325Z",
     "start_time": "2020-10-14T14:45:51.398660Z"
    }
   },
   "outputs": [],
   "source": [
    "def get_simulation():\n",
    "    \"\"\"\n",
    "    Returns a GISAXS simulation with beam and detector defined\n",
    "    \"\"\"\n",
    "    simulation = ba.GISASSimulation()\n",
    "    simulation.setDetectorParameters(200, -2.0*deg, 2.0*deg,\n",
    "                                     200, 0.0*deg, 2.0*deg)\n",
    "    simulation.setBeamParameters(1.0*angstrom, 0.2*deg, 0.0*deg)\n",
    "    return simulation"
   ]
  },
  {
   "cell_type": "code",
   "execution_count": null,
   "metadata": {
    "ExecuteTime": {
     "end_time": "2020-10-14T14:45:51.920457Z",
     "start_time": "2020-10-14T14:45:51.916587Z"
    }
   },
   "outputs": [],
   "source": [
    "def run_simulation():\n",
    "    \"\"\"\n",
    "    Runs simulation and returns intensity map.\n",
    "    \"\"\"\n",
    "    simulation = get_simulation()\n",
    "    simulation.setSample(get_sample())\n",
    "    simulation.runSimulation()\n",
    "    return simulation.result()"
   ]
  },
  {
   "cell_type": "code",
   "execution_count": null,
   "metadata": {
    "ExecuteTime": {
     "end_time": "2020-10-14T14:45:52.468712Z",
     "start_time": "2020-10-14T14:45:52.429597Z"
    }
   },
   "outputs": [],
   "source": [
    "result = run_simulation()"
   ]
  },
  {
   "cell_type": "code",
   "execution_count": null,
   "metadata": {
    "ExecuteTime": {
     "end_time": "2020-10-14T14:45:54.700429Z",
     "start_time": "2020-10-14T14:45:54.116640Z"
    }
   },
   "outputs": [],
   "source": [
    "ba.plot_simulation_result(result, cmap='jet', aspect='auto')"
   ]
  },
  {
   "cell_type": "code",
   "execution_count": null,
   "metadata": {},
   "outputs": [],
   "source": []
  }
 ],
 "metadata": {
  "kernelspec": {
   "display_name": "Python 3",
   "language": "python",
   "name": "python3"
  },
  "language_info": {
   "codemirror_mode": {
    "name": "ipython",
    "version": 3
   },
   "file_extension": ".py",
   "mimetype": "text/x-python",
   "name": "python",
   "nbconvert_exporter": "python",
   "pygments_lexer": "ipython3",
   "version": "3.7.8"
  },
  "toc": {
   "base_numbering": 1,
   "nav_menu": {},
   "number_sections": true,
   "sideBar": true,
   "skip_h1_title": false,
   "title_cell": "Table of Contents",
   "title_sidebar": "Contents",
   "toc_cell": false,
   "toc_position": {},
   "toc_section_display": true,
   "toc_window_display": false
  }
 },
 "nbformat": 4,
 "nbformat_minor": 4
}
