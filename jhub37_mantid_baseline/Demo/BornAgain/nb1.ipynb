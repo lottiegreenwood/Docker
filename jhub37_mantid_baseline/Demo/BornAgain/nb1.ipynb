{
 "cells": [
  {
   "cell_type": "code",
   "execution_count": null,
   "metadata": {
    "ExecuteTime": {
     "end_time": "2020-10-14T14:45:23.080441Z",
     "start_time": "2020-10-14T14:45:21.746712Z"
    }
   },
   "outputs": [],
   "source": [
    "\"\"\"\n",
    "Mixture of cylinders and prisms without interference\n",
    "\"\"\"\n",
    "import bornagain as ba\n",
    "from bornagain import deg, angstrom, nm"
   ]
  },
  {
   "cell_type": "code",
   "execution_count": null,
   "metadata": {
    "ExecuteTime": {
     "end_time": "2020-10-14T14:45:24.052011Z",
     "start_time": "2020-10-14T14:45:24.045828Z"
    }
   },
   "outputs": [],
   "source": [
    "def get_sample():\n",
    "    \"\"\"\n",
    "    Returns a sample with uncorrelated cylinders and prisms on a substrate.\n",
    "    \"\"\"\n",
    "    # defining materials\n",
    "    m_vacuum = ba.HomogeneousMaterial(\"Vacuum\", 0.0, 0.0)\n",
    "    m_substrate = ba.HomogeneousMaterial(\"Substrate\", 6e-6, 2e-8)\n",
    "    m_particle = ba.HomogeneousMaterial(\"Particle\", 6e-4, 2e-8)\n",
    "\n",
    "    # collection of particles\n",
    "    cylinder_ff = ba.FormFactorCylinder(5*nm, 5*nm)\n",
    "    cylinder = ba.Particle(m_particle, cylinder_ff)\n",
    "    prism_ff = ba.FormFactorPrism3(10*nm, 5*nm)\n",
    "    prism = ba.Particle(m_particle, prism_ff)\n",
    "    particle_layout = ba.ParticleLayout()\n",
    "    particle_layout.addParticle(cylinder, 0.5)\n",
    "    particle_layout.addParticle(prism, 0.5)\n",
    "    interference = ba.InterferenceFunctionNone()\n",
    "    particle_layout.setInterferenceFunction(interference)\n",
    "\n",
    "    # vacuum layer with particles and substrate form multi layer\n",
    "    vacuum_layer = ba.Layer(m_vacuum)\n",
    "    vacuum_layer.addLayout(particle_layout)\n",
    "    substrate_layer = ba.Layer(m_substrate)\n",
    "    multi_layer = ba.MultiLayer()\n",
    "    multi_layer.addLayer(vacuum_layer)\n",
    "    multi_layer.addLayer(substrate_layer)\n",
    "    print(multi_layer.treeToString())\n",
    "    return multi_layer"
   ]
  },
  {
   "cell_type": "code",
   "execution_count": null,
   "metadata": {
    "ExecuteTime": {
     "end_time": "2020-10-14T14:45:24.492774Z",
     "start_time": "2020-10-14T14:45:24.488156Z"
    }
   },
   "outputs": [],
   "source": [
    "def get_simulation():\n",
    "    \"\"\"\n",
    "    Returns a GISAXS simulation with beam and detector defined.\n",
    "    \"\"\"\n",
    "    simulation = ba.GISASSimulation()\n",
    "    simulation.setDetectorParameters(100, -1.0*deg, 1.0*deg,\n",
    "                                     100, 0.0*deg, 2.0*deg)\n",
    "    simulation.setBeamParameters(1.0*angstrom, 0.2*deg, 0.0*deg)\n",
    "    return simulation"
   ]
  },
  {
   "cell_type": "code",
   "execution_count": null,
   "metadata": {
    "ExecuteTime": {
     "end_time": "2020-10-14T14:45:24.818926Z",
     "start_time": "2020-10-14T14:45:24.815298Z"
    }
   },
   "outputs": [],
   "source": [
    "def run_simulation():\n",
    "    \"\"\"\n",
    "    Runs simulation and returns resulting intensity map.\n",
    "    \"\"\"\n",
    "    simulation = get_simulation()\n",
    "    simulation.setSample(get_sample())\n",
    "    simulation.runSimulation()\n",
    "    return simulation.result()"
   ]
  },
  {
   "cell_type": "code",
   "execution_count": null,
   "metadata": {
    "ExecuteTime": {
     "end_time": "2020-10-14T14:45:25.173746Z",
     "start_time": "2020-10-14T14:45:25.151212Z"
    }
   },
   "outputs": [],
   "source": [
    "result = run_simulation()"
   ]
  },
  {
   "cell_type": "code",
   "execution_count": null,
   "metadata": {
    "ExecuteTime": {
     "end_time": "2020-10-14T14:45:26.840801Z",
     "start_time": "2020-10-14T14:45:26.255800Z"
    }
   },
   "outputs": [],
   "source": [
    "ba.plot_simulation_result(result, cmap='jet', aspect='auto')"
   ]
  }
 ],
 "metadata": {
  "kernelspec": {
   "display_name": "Python 3",
   "language": "python",
   "name": "python3"
  },
  "language_info": {
   "codemirror_mode": {
    "name": "ipython",
    "version": 3
   },
   "file_extension": ".py",
   "mimetype": "text/x-python",
   "name": "python",
   "nbconvert_exporter": "python",
   "pygments_lexer": "ipython3",
   "version": "3.7.8"
  },
  "toc": {
   "base_numbering": 1,
   "nav_menu": {},
   "number_sections": true,
   "sideBar": true,
   "skip_h1_title": false,
   "title_cell": "Table of Contents",
   "title_sidebar": "Contents",
   "toc_cell": false,
   "toc_position": {},
   "toc_section_display": true,
   "toc_window_display": false
  }
 },
 "nbformat": 4,
 "nbformat_minor": 4
}
