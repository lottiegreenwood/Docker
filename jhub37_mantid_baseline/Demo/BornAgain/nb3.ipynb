{
 "cells": [
  {
   "cell_type": "code",
   "execution_count": null,
   "metadata": {
    "ExecuteTime": {
     "end_time": "2020-10-14T14:46:22.345493Z",
     "start_time": "2020-10-14T14:46:22.335880Z"
    }
   },
   "outputs": [],
   "source": [
    "\"\"\"\n",
    "Fitting example: 4 parameters fit for mixture of cylinders and prisms on top\n",
    "of substrate.\n",
    "\"\"\""
   ]
  },
  {
   "cell_type": "code",
   "execution_count": null,
   "metadata": {
    "ExecuteTime": {
     "end_time": "2020-10-14T14:46:23.029063Z",
     "start_time": "2020-10-14T14:46:22.706947Z"
    }
   },
   "outputs": [],
   "source": [
    "import bornagain as ba\n",
    "from bornagain import deg, angstrom, nm\n",
    "import numpy as np\n",
    "from matplotlib import pyplot as plt"
   ]
  },
  {
   "cell_type": "code",
   "execution_count": null,
   "metadata": {
    "ExecuteTime": {
     "end_time": "2020-10-14T14:46:23.946117Z",
     "start_time": "2020-10-14T14:46:23.939301Z"
    }
   },
   "outputs": [],
   "source": [
    "def get_sample(params):\n",
    "    \"\"\"\n",
    "    Returns a sample with uncorrelated cylinders and prisms on a substrate.\n",
    "    \"\"\"\n",
    "    cylinder_height = params[\"cylinder_height\"]\n",
    "    cylinder_radius = params[\"cylinder_radius\"]\n",
    "    prism_height = params[\"prism_height\"]\n",
    "    prism_base_edge = params[\"prism_base_edge\"]\n",
    "\n",
    "    # defining materials\n",
    "    m_vacuum = ba.HomogeneousMaterial(\"Vacuum\", 0.0, 0.0)\n",
    "    m_substrate = ba.HomogeneousMaterial(\"Substrate\", 6e-6, 2e-8)\n",
    "    m_particle = ba.HomogeneousMaterial(\"Particle\", 6e-4, 2e-8)\n",
    "\n",
    "    # collection of particles\n",
    "    cylinder_ff = ba.FormFactorCylinder(cylinder_radius, cylinder_height)\n",
    "    cylinder = ba.Particle(m_particle, cylinder_ff)\n",
    "    prism_ff = ba.FormFactorPrism3(prism_base_edge, prism_height)\n",
    "    prism = ba.Particle(m_particle, prism_ff)\n",
    "    layout = ba.ParticleLayout()\n",
    "    layout.addParticle(cylinder, 0.5)\n",
    "    layout.addParticle(prism, 0.5)\n",
    "\n",
    "    # vacuum layer with particles and substrate form multi layer\n",
    "    vacuum_layer = ba.Layer(m_vacuum)\n",
    "    vacuum_layer.addLayout(layout)\n",
    "    substrate_layer = ba.Layer(m_substrate, 0)\n",
    "    multi_layer = ba.MultiLayer()\n",
    "    multi_layer.addLayer(vacuum_layer)\n",
    "    multi_layer.addLayer(substrate_layer)\n",
    "    return multi_layer"
   ]
  },
  {
   "cell_type": "code",
   "execution_count": null,
   "metadata": {
    "ExecuteTime": {
     "end_time": "2020-10-14T14:46:24.453278Z",
     "start_time": "2020-10-14T14:46:24.448391Z"
    }
   },
   "outputs": [],
   "source": [
    "def get_simulation(params):\n",
    "    \"\"\"\n",
    "    Returns a GISAXS simulation with beam and detector defined\n",
    "    \"\"\"\n",
    "    simulation = ba.GISASSimulation()\n",
    "    simulation.setDetectorParameters(100, -1.0*deg, 1.0*deg,\n",
    "                                     100, 0.0*deg, 2.0*deg)\n",
    "    simulation.setBeamParameters(1.0*angstrom, 0.2*deg, 0.0*deg)\n",
    "    simulation.setBeamIntensity(1e+08)\n",
    "    simulation.setSample(get_sample(params))\n",
    "    return simulation"
   ]
  },
  {
   "cell_type": "code",
   "execution_count": null,
   "metadata": {
    "ExecuteTime": {
     "end_time": "2020-10-14T14:46:24.958882Z",
     "start_time": "2020-10-14T14:46:24.953339Z"
    }
   },
   "outputs": [],
   "source": [
    "def create_real_data():\n",
    "    \"\"\"\n",
    "    Generating \"experimental\" data by running simulation with certain parameters.\n",
    "    The data is saved on disk in the form of numpy array.\n",
    "    \"\"\"\n",
    "\n",
    "    # default sample parameters\n",
    "    params = {'cylinder_height': 5.0*nm, 'cylinder_radius': 5.0*nm,\n",
    "              'prism_height': 5.0*nm, 'prism_base_edge': 5.0*nm}\n",
    "\n",
    "    # retrieving simulated data in the form of numpy array\n",
    "    simulation = get_simulation(params)\n",
    "    simulation.runSimulation()\n",
    "    real_data = simulation.result().array()\n",
    "\n",
    "    # spoiling simulated data with noise to produce \"real\" data\n",
    "    np.random.seed(0)\n",
    "    noise_factor = 0.1\n",
    "    noisy = np.random.normal(real_data, noise_factor*np.sqrt(real_data))\n",
    "    noisy[noisy < 0.1] = 0.1\n",
    "\n",
    "    np.savetxt(\"basic_fitting_tutorial_data.txt.gz\", real_data)"
   ]
  },
  {
   "cell_type": "code",
   "execution_count": null,
   "metadata": {
    "ExecuteTime": {
     "end_time": "2020-10-14T14:46:25.433560Z",
     "start_time": "2020-10-14T14:46:25.430191Z"
    }
   },
   "outputs": [],
   "source": [
    "def load_real_data():\n",
    "    \"\"\"\n",
    "    Loads experimental data from file\n",
    "    \"\"\"\n",
    "    return np.loadtxt(\"basic_fitting_tutorial_data.txt.gz\", dtype=float)"
   ]
  },
  {
   "cell_type": "code",
   "execution_count": null,
   "metadata": {
    "ExecuteTime": {
     "end_time": "2020-10-14T14:46:25.931122Z",
     "start_time": "2020-10-14T14:46:25.925133Z"
    }
   },
   "outputs": [],
   "source": [
    "def run_fitting():\n",
    "    \"\"\"\n",
    "    Setup simulation and fit\n",
    "    \"\"\"\n",
    "\n",
    "    real_data = load_real_data()\n",
    "\n",
    "    fit_objective = ba.FitObjective()\n",
    "    fit_objective.addSimulationAndData(get_simulation, real_data)\n",
    "\n",
    "    # Print fit progress on every n-th iteration.\n",
    "    fit_objective.initPrint(10)\n",
    "\n",
    "    # Plot fit progress on every n-th iteration. Will slow down fit.\n",
    "    fit_objective.initPlot(10)\n",
    "\n",
    "    params = ba.Parameters()\n",
    "    params.add(\"cylinder_height\", 4.*nm, min=0.01)\n",
    "    params.add(\"cylinder_radius\", 6.*nm, min=0.01)\n",
    "    params.add(\"prism_height\", 4.*nm, min=0.01)\n",
    "    params.add(\"prism_base_edge\", 6.*nm, min=0.01)\n",
    "\n",
    "    minimizer = ba.Minimizer()\n",
    "    result = minimizer.minimize(fit_objective.evaluate, params)\n",
    "\n",
    "    fit_objective.finalize(result)\n",
    "\n",
    "    print(\"Fitting completed.\")\n",
    "    print(\"chi2:\", result.minValue())\n",
    "    for fitPar in result.parameters():\n",
    "        print(fitPar.name(), fitPar.value, fitPar.error)\n",
    "\n",
    "    # saving simulation image corresponding to the best fit parameters\n",
    "    # np.savetxt(\"data.txt\", fit_objective.simulationResult().array())"
   ]
  },
  {
   "cell_type": "code",
   "execution_count": null,
   "metadata": {
    "ExecuteTime": {
     "end_time": "2020-10-14T14:46:26.816424Z",
     "start_time": "2020-10-14T14:46:26.741048Z"
    }
   },
   "outputs": [],
   "source": [
    "run_fitting()"
   ]
  },
  {
   "cell_type": "code",
   "execution_count": null,
   "metadata": {
    "ExecuteTime": {
     "end_time": "2020-10-13T19:00:30.492310Z",
     "start_time": "2020-10-13T19:00:30.488716Z"
    }
   },
   "outputs": [],
   "source": [
    "plt.show()"
   ]
  },
  {
   "cell_type": "code",
   "execution_count": null,
   "metadata": {},
   "outputs": [],
   "source": []
  }
 ],
 "metadata": {
  "kernelspec": {
   "display_name": "Python 3",
   "language": "python",
   "name": "python3"
  },
  "language_info": {
   "codemirror_mode": {
    "name": "ipython",
    "version": 3
   },
   "file_extension": ".py",
   "mimetype": "text/x-python",
   "name": "python",
   "nbconvert_exporter": "python",
   "pygments_lexer": "ipython3",
   "version": "3.7.8"
  },
  "toc": {
   "base_numbering": 1,
   "nav_menu": {},
   "number_sections": true,
   "sideBar": true,
   "skip_h1_title": false,
   "title_cell": "Table of Contents",
   "title_sidebar": "Contents",
   "toc_cell": false,
   "toc_position": {},
   "toc_section_display": true,
   "toc_window_display": false
  }
 },
 "nbformat": 4,
 "nbformat_minor": 4
}
