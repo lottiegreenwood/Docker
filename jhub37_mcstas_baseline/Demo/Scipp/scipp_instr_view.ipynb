{
 "cells": [
  {
   "cell_type": "markdown",
   "metadata": {},
   "source": [
    "# Scipp"
   ]
  },
  {
   "cell_type": "markdown",
   "metadata": {},
   "source": [
    "## Instrument view"
   ]
  },
  {
   "cell_type": "code",
   "execution_count": null,
   "metadata": {
    "ExecuteTime": {
     "end_time": "2020-08-28T09:30:34.014650Z",
     "start_time": "2020-08-28T09:30:32.813103Z"
    }
   },
   "outputs": [],
   "source": [
    "import numpy as np\n",
    "import scipp.neutron as sn"
   ]
  },
  {
   "cell_type": "code",
   "execution_count": null,
   "metadata": {
    "ExecuteTime": {
     "end_time": "2020-08-28T09:30:36.184181Z",
     "start_time": "2020-08-28T09:30:36.180229Z"
    }
   },
   "outputs": [],
   "source": [
    "filename_data = 'Data/CNCS_7860_event.nxs'"
   ]
  },
  {
   "cell_type": "code",
   "execution_count": null,
   "metadata": {
    "ExecuteTime": {
     "end_time": "2020-08-28T09:30:42.686121Z",
     "start_time": "2020-08-28T09:30:37.078499Z"
    }
   },
   "outputs": [],
   "source": [
    "sample = sn.load(filename=filename_data)"
   ]
  },
  {
   "cell_type": "code",
   "execution_count": null,
   "metadata": {
    "ExecuteTime": {
     "end_time": "2020-08-28T09:30:45.374149Z",
     "start_time": "2020-08-28T09:30:43.404540Z"
    }
   },
   "outputs": [],
   "source": [
    "sn.instrument_view(sample)"
   ]
  },
  {
   "cell_type": "code",
   "execution_count": null,
   "metadata": {
    "ExecuteTime": {
     "end_time": "2020-08-28T09:30:52.151474Z",
     "start_time": "2020-08-28T09:30:50.172801Z"
    }
   },
   "outputs": [],
   "source": [
    "sn.instrument_view(sample, cmap=\"magma\", vmax=1.5, bins={'tof': 10}, log=True)"
   ]
  },
  {
   "cell_type": "code",
   "execution_count": null,
   "metadata": {
    "ExecuteTime": {
     "end_time": "2020-08-28T09:30:57.479698Z",
     "start_time": "2020-08-28T09:30:55.528673Z"
    }
   },
   "outputs": [],
   "source": [
    "sn.instrument_view(sn.load(filename='Data/GEM40979.raw'))"
   ]
  },
  {
   "cell_type": "code",
   "execution_count": null,
   "metadata": {},
   "outputs": [],
   "source": []
  }
 ],
 "metadata": {
  "kernelspec": {
   "display_name": "Python 3",
   "language": "python",
   "name": "python3"
  },
  "language_info": {
   "codemirror_mode": {
    "name": "ipython",
    "version": 3
   },
   "file_extension": ".py",
   "mimetype": "text/x-python",
   "name": "python",
   "nbconvert_exporter": "python",
   "pygments_lexer": "ipython3",
   "version": "3.7.8"
  },
  "toc": {
   "base_numbering": 1,
   "nav_menu": {},
   "number_sections": true,
   "sideBar": true,
   "skip_h1_title": false,
   "title_cell": "Table of Contents",
   "title_sidebar": "Contents",
   "toc_cell": false,
   "toc_position": {},
   "toc_section_display": true,
   "toc_window_display": true
  }
 },
 "nbformat": 4,
 "nbformat_minor": 4
}
